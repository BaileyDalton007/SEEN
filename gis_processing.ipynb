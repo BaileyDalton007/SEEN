{
 "cells": [
  {
   "cell_type": "code",
   "execution_count": 1,
   "metadata": {},
   "outputs": [],
   "source": [
    "import geopandas as gpd"
   ]
  },
  {
   "cell_type": "code",
   "execution_count": 2,
   "metadata": {},
   "outputs": [],
   "source": [
    "shapefile_path = \"C:\\\\Users\\\\bailey\\\\Documents\\\\ArcGIS\\\\Projects\\\\SEEN\\\\data\\\\EDGE_SCHOOLDISTRICT_TL23_SY2233\\\\EDGE_SCHOOLDISTRICT_TL_23_SY2223.shp\"\n",
    "gdf = gpd.read_file(shapefile_path)"
   ]
  },
  {
   "cell_type": "code",
   "execution_count": 3,
   "metadata": {},
   "outputs": [],
   "source": [
    "# Combines all the different LEA columns\n",
    "def combine_lea_id(row):\n",
    "    if row['UNSDLEA'] != None:\n",
    "        return int(row['STATEFP'] + row['UNSDLEA'])\n",
    "    if row['SDADMLEA'] != None:\n",
    "        return int(row['STATEFP'] + row['SDADMLEA'])\n",
    "    if row['SCSDLEA'] != None:\n",
    "        return int(row['STATEFP'] + row['SCSDLEA'])\n",
    "    if row ['ELSDLEA'] != None:\n",
    "        return int(row['STATEFP'] + row['ELSDLEA'])\n",
    "    \n",
    "    return None"
   ]
  },
  {
   "cell_type": "code",
   "execution_count": 10,
   "metadata": {},
   "outputs": [],
   "source": [
    "gdf['LEAID'] = gdf.apply(combine_lea_id, axis=1)\n",
    "\n",
    "gdf = gdf.drop(['ELSDLEA', 'SCSDLEA', 'UNSDLEA', 'SDADMLEA'], axis=1)"
   ]
  },
  {
   "cell_type": "code",
   "execution_count": 13,
   "metadata": {},
   "outputs": [],
   "source": [
    "gdf.to_file('data/processed_data/school_districts/school_districts.shp', driver='ESRI Shapefile', index=False)"
   ]
  }
 ],
 "metadata": {
  "kernelspec": {
   "display_name": "Python 3",
   "language": "python",
   "name": "python3"
  },
  "language_info": {
   "codemirror_mode": {
    "name": "ipython",
    "version": 3
   },
   "file_extension": ".py",
   "mimetype": "text/x-python",
   "name": "python",
   "nbconvert_exporter": "python",
   "pygments_lexer": "ipython3",
   "version": "3.10.1"
  }
 },
 "nbformat": 4,
 "nbformat_minor": 2
}
