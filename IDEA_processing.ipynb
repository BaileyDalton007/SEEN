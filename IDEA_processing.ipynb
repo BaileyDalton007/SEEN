{
 "cells": [
  {
   "cell_type": "code",
   "execution_count": 1,
   "metadata": {},
   "outputs": [],
   "source": [
    "import pandas as pd\n",
    "import numpy as np"
   ]
  },
  {
   "cell_type": "code",
   "execution_count": 2,
   "metadata": {},
   "outputs": [],
   "source": [
    "df = pd.read_csv(\"C:\\\\Users\\\\bailey\\\\Projects\\\\seen\\\\data\\\\EDFacts\\\\FS002 DG74\\\\ID 74 SCH - Educational Environment by Gender by Disability.csv\")"
   ]
  },
  {
   "cell_type": "code",
   "execution_count": 3,
   "metadata": {},
   "outputs": [],
   "source": [
    "df = df[['LEAID', 'LEA_NAME', 'LEA_STATE', 'DISABILITY_CATEGORY', 'TOTAL_STUDENTS_REPORTED']]"
   ]
  },
  {
   "cell_type": "code",
   "execution_count": 4,
   "metadata": {},
   "outputs": [],
   "source": [
    "values = df['DISABILITY_CATEGORY'].unique()\n",
    "values = values[values != 'MISSING']\n",
    "\n",
    "# Adds empty columns for each disability category\n",
    "for col_name in values:\n",
    "        df[col_name] = 0\n",
    "\n",
    "\n",
    "def modify_row(row):\n",
    "    disability_type = row['DISABILITY_CATEGORY']\n",
    "    value = row['TOTAL_STUDENTS_REPORTED']\n",
    "    row[disability_type] = value\n",
    "    return row\n",
    "\n",
    "df = df.apply(modify_row, axis=1)"
   ]
  },
  {
   "cell_type": "code",
   "execution_count": 5,
   "metadata": {},
   "outputs": [],
   "source": [
    "\"\"\"\n",
    "Split up columns into what values need to be summed or averaged across schools in the LEA.\n",
    "Columns that intrisncially the same across the LEA, just grabs the first value.\n",
    "\"\"\"\n",
    "lea_groups = df.groupby('LEAID')\n",
    "\n",
    "columns = np.append(values, 'TOTAL_STUDENTS_REPORTED')\n",
    "\n",
    "sum_df = lea_groups[columns].agg('sum').reset_index()\n",
    "\n",
    "mean_df = lea_groups[columns].agg('mean').reset_index()\n",
    "# Rounds all averages.\n",
    "for col in columns:\n",
    "    mean_df[col] = mean_df[col].apply(lambda x: int(x))\n",
    "\n",
    "\n",
    "first_df = lea_groups[['LEA_NAME']].first()"
   ]
  },
  {
   "cell_type": "code",
   "execution_count": 6,
   "metadata": {},
   "outputs": [],
   "source": [
    "\"\"\"\n",
    "Renaming dataframes\n",
    "\"\"\"\n",
    "\n",
    "sum_name_mapping = {old_name: old_name+'_TOTAL' for old_name in columns}\n",
    "sum_name_mapping['TOTAL_STUDENTS_REPORTED'] = 'TOTAL_STUDENTS_REPORTED'\n",
    "sum_df = sum_df.rename(columns=sum_name_mapping)\n",
    "\n",
    "mean_name_mapping = {old_name: old_name+'_MEAN' for old_name in columns}\n",
    "mean_name_mapping['TOTAL_STUDENTS_REPORTED'] = 'MEAN_STUDENTS_REPORTED'\n",
    "mean_df = mean_df.rename(columns=mean_name_mapping)"
   ]
  },
  {
   "cell_type": "code",
   "execution_count": 7,
   "metadata": {},
   "outputs": [],
   "source": [
    "m_1 = pd.merge(first_df, sum_df, on='LEAID')\n",
    "merged_df = pd.merge(m_1, mean_df, on='LEAID')"
   ]
  },
  {
   "cell_type": "code",
   "execution_count": 9,
   "metadata": {},
   "outputs": [],
   "source": [
    "# create a new column for each district showing the disability with highest concentration\n",
    "\n",
    "def highest_disability(row):\n",
    "    max_class = \"\"\n",
    "    max_num = 0\n",
    "\n",
    "    for dis_class in values:\n",
    "        col_name = dis_class + \"_TOTAL\"\n",
    "        \n",
    "        if row[col_name] > max_num:\n",
    "            max_class = dis_class\n",
    "            max_num = row[col_name]\n",
    "\n",
    "    row['MOST_COMMON_DISABILITY'] = max_class\n",
    "\n",
    "    return row\n",
    "\n",
    "merged_df = merged_df.apply(highest_disability, axis=1)"
   ]
  },
  {
   "cell_type": "code",
   "execution_count": 11,
   "metadata": {},
   "outputs": [],
   "source": [
    "merged_df.to_csv('data/processed_data/IDEA_by_district.csv', index=False)"
   ]
  }
 ],
 "metadata": {
  "kernelspec": {
   "display_name": "Python 3",
   "language": "python",
   "name": "python3"
  },
  "language_info": {
   "codemirror_mode": {
    "name": "ipython",
    "version": 3
   },
   "file_extension": ".py",
   "mimetype": "text/x-python",
   "name": "python",
   "nbconvert_exporter": "python",
   "pygments_lexer": "ipython3",
   "version": "3.10.1"
  }
 },
 "nbformat": 4,
 "nbformat_minor": 2
}
